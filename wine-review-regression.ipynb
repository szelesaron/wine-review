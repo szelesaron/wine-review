{
 "cells": [
  {
   "cell_type": "markdown",
   "metadata": {},
   "source": [
    "## Setup"
   ]
  },
  {
   "cell_type": "code",
   "execution_count": 163,
   "metadata": {},
   "outputs": [],
   "source": [
    "import numpy as np\n",
    "import pandas as pd\n",
    "import sklearn\n",
    "import matplotlib.pyplot as plt\n",
    "from sklearn.model_selection import train_test_split\n",
    "from sklearn.model_selection import StratifiedShuffleSplit\n",
    "from pandas.plotting import scatter_matrix\n",
    "from sklearn.pipeline import Pipeline\n",
    "from sklearn.impute import SimpleImputer\n",
    "from sklearn.preprocessing import StandardScaler\n",
    "from sklearn.model_selection import cross_val_score\n",
    "from scipy import stats\n",
    "from sklearn.compose import ColumnTransformer\n",
    "from sklearn.metrics import mean_squared_error\n",
    "import joblib\n",
    "\n",
    "%matplotlib inline"
   ]
  },
  {
   "cell_type": "markdown",
   "metadata": {},
   "source": [
    "## Get the data "
   ]
  },
  {
   "cell_type": "code",
   "execution_count": 132,
   "metadata": {},
   "outputs": [],
   "source": [
    "data = pd.read_csv(\"winequality-red.csv\")"
   ]
  },
  {
   "cell_type": "code",
   "execution_count": 133,
   "metadata": {},
   "outputs": [
    {
     "data": {
      "text/html": [
       "<div>\n",
       "<style scoped>\n",
       "    .dataframe tbody tr th:only-of-type {\n",
       "        vertical-align: middle;\n",
       "    }\n",
       "\n",
       "    .dataframe tbody tr th {\n",
       "        vertical-align: top;\n",
       "    }\n",
       "\n",
       "    .dataframe thead th {\n",
       "        text-align: right;\n",
       "    }\n",
       "</style>\n",
       "<table border=\"1\" class=\"dataframe\">\n",
       "  <thead>\n",
       "    <tr style=\"text-align: right;\">\n",
       "      <th></th>\n",
       "      <th>fixed acidity</th>\n",
       "      <th>volatile acidity</th>\n",
       "      <th>citric acid</th>\n",
       "      <th>residual sugar</th>\n",
       "      <th>chlorides</th>\n",
       "      <th>free sulfur dioxide</th>\n",
       "      <th>total sulfur dioxide</th>\n",
       "      <th>density</th>\n",
       "      <th>pH</th>\n",
       "      <th>sulphates</th>\n",
       "      <th>alcohol</th>\n",
       "      <th>quality</th>\n",
       "    </tr>\n",
       "  </thead>\n",
       "  <tbody>\n",
       "    <tr>\n",
       "      <th>0</th>\n",
       "      <td>7.4</td>\n",
       "      <td>0.700</td>\n",
       "      <td>0.00</td>\n",
       "      <td>1.9</td>\n",
       "      <td>0.076</td>\n",
       "      <td>11.0</td>\n",
       "      <td>34.0</td>\n",
       "      <td>0.99780</td>\n",
       "      <td>3.51</td>\n",
       "      <td>0.56</td>\n",
       "      <td>9.4</td>\n",
       "      <td>5</td>\n",
       "    </tr>\n",
       "    <tr>\n",
       "      <th>1</th>\n",
       "      <td>7.8</td>\n",
       "      <td>0.880</td>\n",
       "      <td>0.00</td>\n",
       "      <td>2.6</td>\n",
       "      <td>0.098</td>\n",
       "      <td>25.0</td>\n",
       "      <td>67.0</td>\n",
       "      <td>0.99680</td>\n",
       "      <td>3.20</td>\n",
       "      <td>0.68</td>\n",
       "      <td>9.8</td>\n",
       "      <td>5</td>\n",
       "    </tr>\n",
       "    <tr>\n",
       "      <th>2</th>\n",
       "      <td>7.8</td>\n",
       "      <td>0.760</td>\n",
       "      <td>0.04</td>\n",
       "      <td>2.3</td>\n",
       "      <td>0.092</td>\n",
       "      <td>15.0</td>\n",
       "      <td>54.0</td>\n",
       "      <td>0.99700</td>\n",
       "      <td>3.26</td>\n",
       "      <td>0.65</td>\n",
       "      <td>9.8</td>\n",
       "      <td>5</td>\n",
       "    </tr>\n",
       "    <tr>\n",
       "      <th>3</th>\n",
       "      <td>11.2</td>\n",
       "      <td>0.280</td>\n",
       "      <td>0.56</td>\n",
       "      <td>1.9</td>\n",
       "      <td>0.075</td>\n",
       "      <td>17.0</td>\n",
       "      <td>60.0</td>\n",
       "      <td>0.99800</td>\n",
       "      <td>3.16</td>\n",
       "      <td>0.58</td>\n",
       "      <td>9.8</td>\n",
       "      <td>6</td>\n",
       "    </tr>\n",
       "    <tr>\n",
       "      <th>4</th>\n",
       "      <td>7.4</td>\n",
       "      <td>0.700</td>\n",
       "      <td>0.00</td>\n",
       "      <td>1.9</td>\n",
       "      <td>0.076</td>\n",
       "      <td>11.0</td>\n",
       "      <td>34.0</td>\n",
       "      <td>0.99780</td>\n",
       "      <td>3.51</td>\n",
       "      <td>0.56</td>\n",
       "      <td>9.4</td>\n",
       "      <td>5</td>\n",
       "    </tr>\n",
       "    <tr>\n",
       "      <th>...</th>\n",
       "      <td>...</td>\n",
       "      <td>...</td>\n",
       "      <td>...</td>\n",
       "      <td>...</td>\n",
       "      <td>...</td>\n",
       "      <td>...</td>\n",
       "      <td>...</td>\n",
       "      <td>...</td>\n",
       "      <td>...</td>\n",
       "      <td>...</td>\n",
       "      <td>...</td>\n",
       "      <td>...</td>\n",
       "    </tr>\n",
       "    <tr>\n",
       "      <th>1594</th>\n",
       "      <td>6.2</td>\n",
       "      <td>0.600</td>\n",
       "      <td>0.08</td>\n",
       "      <td>2.0</td>\n",
       "      <td>0.090</td>\n",
       "      <td>32.0</td>\n",
       "      <td>44.0</td>\n",
       "      <td>0.99490</td>\n",
       "      <td>3.45</td>\n",
       "      <td>0.58</td>\n",
       "      <td>10.5</td>\n",
       "      <td>5</td>\n",
       "    </tr>\n",
       "    <tr>\n",
       "      <th>1595</th>\n",
       "      <td>5.9</td>\n",
       "      <td>0.550</td>\n",
       "      <td>0.10</td>\n",
       "      <td>2.2</td>\n",
       "      <td>0.062</td>\n",
       "      <td>39.0</td>\n",
       "      <td>51.0</td>\n",
       "      <td>0.99512</td>\n",
       "      <td>3.52</td>\n",
       "      <td>0.76</td>\n",
       "      <td>11.2</td>\n",
       "      <td>6</td>\n",
       "    </tr>\n",
       "    <tr>\n",
       "      <th>1596</th>\n",
       "      <td>6.3</td>\n",
       "      <td>0.510</td>\n",
       "      <td>0.13</td>\n",
       "      <td>2.3</td>\n",
       "      <td>0.076</td>\n",
       "      <td>29.0</td>\n",
       "      <td>40.0</td>\n",
       "      <td>0.99574</td>\n",
       "      <td>3.42</td>\n",
       "      <td>0.75</td>\n",
       "      <td>11.0</td>\n",
       "      <td>6</td>\n",
       "    </tr>\n",
       "    <tr>\n",
       "      <th>1597</th>\n",
       "      <td>5.9</td>\n",
       "      <td>0.645</td>\n",
       "      <td>0.12</td>\n",
       "      <td>2.0</td>\n",
       "      <td>0.075</td>\n",
       "      <td>32.0</td>\n",
       "      <td>44.0</td>\n",
       "      <td>0.99547</td>\n",
       "      <td>3.57</td>\n",
       "      <td>0.71</td>\n",
       "      <td>10.2</td>\n",
       "      <td>5</td>\n",
       "    </tr>\n",
       "    <tr>\n",
       "      <th>1598</th>\n",
       "      <td>6.0</td>\n",
       "      <td>0.310</td>\n",
       "      <td>0.47</td>\n",
       "      <td>3.6</td>\n",
       "      <td>0.067</td>\n",
       "      <td>18.0</td>\n",
       "      <td>42.0</td>\n",
       "      <td>0.99549</td>\n",
       "      <td>3.39</td>\n",
       "      <td>0.66</td>\n",
       "      <td>11.0</td>\n",
       "      <td>6</td>\n",
       "    </tr>\n",
       "  </tbody>\n",
       "</table>\n",
       "<p>1599 rows × 12 columns</p>\n",
       "</div>"
      ],
      "text/plain": [
       "      fixed acidity  volatile acidity  citric acid  residual sugar  chlorides  \\\n",
       "0               7.4             0.700         0.00             1.9      0.076   \n",
       "1               7.8             0.880         0.00             2.6      0.098   \n",
       "2               7.8             0.760         0.04             2.3      0.092   \n",
       "3              11.2             0.280         0.56             1.9      0.075   \n",
       "4               7.4             0.700         0.00             1.9      0.076   \n",
       "...             ...               ...          ...             ...        ...   \n",
       "1594            6.2             0.600         0.08             2.0      0.090   \n",
       "1595            5.9             0.550         0.10             2.2      0.062   \n",
       "1596            6.3             0.510         0.13             2.3      0.076   \n",
       "1597            5.9             0.645         0.12             2.0      0.075   \n",
       "1598            6.0             0.310         0.47             3.6      0.067   \n",
       "\n",
       "      free sulfur dioxide  total sulfur dioxide  density    pH  sulphates  \\\n",
       "0                    11.0                  34.0  0.99780  3.51       0.56   \n",
       "1                    25.0                  67.0  0.99680  3.20       0.68   \n",
       "2                    15.0                  54.0  0.99700  3.26       0.65   \n",
       "3                    17.0                  60.0  0.99800  3.16       0.58   \n",
       "4                    11.0                  34.0  0.99780  3.51       0.56   \n",
       "...                   ...                   ...      ...   ...        ...   \n",
       "1594                 32.0                  44.0  0.99490  3.45       0.58   \n",
       "1595                 39.0                  51.0  0.99512  3.52       0.76   \n",
       "1596                 29.0                  40.0  0.99574  3.42       0.75   \n",
       "1597                 32.0                  44.0  0.99547  3.57       0.71   \n",
       "1598                 18.0                  42.0  0.99549  3.39       0.66   \n",
       "\n",
       "      alcohol  quality  \n",
       "0         9.4        5  \n",
       "1         9.8        5  \n",
       "2         9.8        5  \n",
       "3         9.8        6  \n",
       "4         9.4        5  \n",
       "...       ...      ...  \n",
       "1594     10.5        5  \n",
       "1595     11.2        6  \n",
       "1596     11.0        6  \n",
       "1597     10.2        5  \n",
       "1598     11.0        6  \n",
       "\n",
       "[1599 rows x 12 columns]"
      ]
     },
     "execution_count": 133,
     "metadata": {},
     "output_type": "execute_result"
    }
   ],
   "source": [
    "data"
   ]
  },
  {
   "cell_type": "markdown",
   "metadata": {},
   "source": [
    "## Initial look "
   ]
  },
  {
   "cell_type": "code",
   "execution_count": 134,
   "metadata": {},
   "outputs": [
    {
     "name": "stdout",
     "output_type": "stream",
     "text": [
      "<class 'pandas.core.frame.DataFrame'>\n",
      "RangeIndex: 1599 entries, 0 to 1598\n",
      "Data columns (total 12 columns):\n",
      " #   Column                Non-Null Count  Dtype  \n",
      "---  ------                --------------  -----  \n",
      " 0   fixed acidity         1599 non-null   float64\n",
      " 1   volatile acidity      1599 non-null   float64\n",
      " 2   citric acid           1599 non-null   float64\n",
      " 3   residual sugar        1599 non-null   float64\n",
      " 4   chlorides             1599 non-null   float64\n",
      " 5   free sulfur dioxide   1599 non-null   float64\n",
      " 6   total sulfur dioxide  1599 non-null   float64\n",
      " 7   density               1599 non-null   float64\n",
      " 8   pH                    1599 non-null   float64\n",
      " 9   sulphates             1599 non-null   float64\n",
      " 10  alcohol               1599 non-null   float64\n",
      " 11  quality               1599 non-null   int64  \n",
      "dtypes: float64(11), int64(1)\n",
      "memory usage: 150.0 KB\n"
     ]
    }
   ],
   "source": [
    "data.info()"
   ]
  },
  {
   "cell_type": "code",
   "execution_count": 135,
   "metadata": {},
   "outputs": [
    {
     "data": {
      "text/html": [
       "<div>\n",
       "<style scoped>\n",
       "    .dataframe tbody tr th:only-of-type {\n",
       "        vertical-align: middle;\n",
       "    }\n",
       "\n",
       "    .dataframe tbody tr th {\n",
       "        vertical-align: top;\n",
       "    }\n",
       "\n",
       "    .dataframe thead th {\n",
       "        text-align: right;\n",
       "    }\n",
       "</style>\n",
       "<table border=\"1\" class=\"dataframe\">\n",
       "  <thead>\n",
       "    <tr style=\"text-align: right;\">\n",
       "      <th></th>\n",
       "      <th>fixed acidity</th>\n",
       "      <th>volatile acidity</th>\n",
       "      <th>citric acid</th>\n",
       "      <th>residual sugar</th>\n",
       "      <th>chlorides</th>\n",
       "      <th>free sulfur dioxide</th>\n",
       "      <th>total sulfur dioxide</th>\n",
       "      <th>density</th>\n",
       "      <th>pH</th>\n",
       "      <th>sulphates</th>\n",
       "      <th>alcohol</th>\n",
       "      <th>quality</th>\n",
       "    </tr>\n",
       "  </thead>\n",
       "  <tbody>\n",
       "    <tr>\n",
       "      <th>count</th>\n",
       "      <td>1599.000000</td>\n",
       "      <td>1599.000000</td>\n",
       "      <td>1599.000000</td>\n",
       "      <td>1599.000000</td>\n",
       "      <td>1599.000000</td>\n",
       "      <td>1599.000000</td>\n",
       "      <td>1599.000000</td>\n",
       "      <td>1599.000000</td>\n",
       "      <td>1599.000000</td>\n",
       "      <td>1599.000000</td>\n",
       "      <td>1599.000000</td>\n",
       "      <td>1599.000000</td>\n",
       "    </tr>\n",
       "    <tr>\n",
       "      <th>mean</th>\n",
       "      <td>8.319637</td>\n",
       "      <td>0.527821</td>\n",
       "      <td>0.270976</td>\n",
       "      <td>2.538806</td>\n",
       "      <td>0.087467</td>\n",
       "      <td>15.874922</td>\n",
       "      <td>46.467792</td>\n",
       "      <td>0.996747</td>\n",
       "      <td>3.311113</td>\n",
       "      <td>0.658149</td>\n",
       "      <td>10.422983</td>\n",
       "      <td>5.636023</td>\n",
       "    </tr>\n",
       "    <tr>\n",
       "      <th>std</th>\n",
       "      <td>1.741096</td>\n",
       "      <td>0.179060</td>\n",
       "      <td>0.194801</td>\n",
       "      <td>1.409928</td>\n",
       "      <td>0.047065</td>\n",
       "      <td>10.460157</td>\n",
       "      <td>32.895324</td>\n",
       "      <td>0.001887</td>\n",
       "      <td>0.154386</td>\n",
       "      <td>0.169507</td>\n",
       "      <td>1.065668</td>\n",
       "      <td>0.807569</td>\n",
       "    </tr>\n",
       "    <tr>\n",
       "      <th>min</th>\n",
       "      <td>4.600000</td>\n",
       "      <td>0.120000</td>\n",
       "      <td>0.000000</td>\n",
       "      <td>0.900000</td>\n",
       "      <td>0.012000</td>\n",
       "      <td>1.000000</td>\n",
       "      <td>6.000000</td>\n",
       "      <td>0.990070</td>\n",
       "      <td>2.740000</td>\n",
       "      <td>0.330000</td>\n",
       "      <td>8.400000</td>\n",
       "      <td>3.000000</td>\n",
       "    </tr>\n",
       "    <tr>\n",
       "      <th>25%</th>\n",
       "      <td>7.100000</td>\n",
       "      <td>0.390000</td>\n",
       "      <td>0.090000</td>\n",
       "      <td>1.900000</td>\n",
       "      <td>0.070000</td>\n",
       "      <td>7.000000</td>\n",
       "      <td>22.000000</td>\n",
       "      <td>0.995600</td>\n",
       "      <td>3.210000</td>\n",
       "      <td>0.550000</td>\n",
       "      <td>9.500000</td>\n",
       "      <td>5.000000</td>\n",
       "    </tr>\n",
       "    <tr>\n",
       "      <th>50%</th>\n",
       "      <td>7.900000</td>\n",
       "      <td>0.520000</td>\n",
       "      <td>0.260000</td>\n",
       "      <td>2.200000</td>\n",
       "      <td>0.079000</td>\n",
       "      <td>14.000000</td>\n",
       "      <td>38.000000</td>\n",
       "      <td>0.996750</td>\n",
       "      <td>3.310000</td>\n",
       "      <td>0.620000</td>\n",
       "      <td>10.200000</td>\n",
       "      <td>6.000000</td>\n",
       "    </tr>\n",
       "    <tr>\n",
       "      <th>75%</th>\n",
       "      <td>9.200000</td>\n",
       "      <td>0.640000</td>\n",
       "      <td>0.420000</td>\n",
       "      <td>2.600000</td>\n",
       "      <td>0.090000</td>\n",
       "      <td>21.000000</td>\n",
       "      <td>62.000000</td>\n",
       "      <td>0.997835</td>\n",
       "      <td>3.400000</td>\n",
       "      <td>0.730000</td>\n",
       "      <td>11.100000</td>\n",
       "      <td>6.000000</td>\n",
       "    </tr>\n",
       "    <tr>\n",
       "      <th>max</th>\n",
       "      <td>15.900000</td>\n",
       "      <td>1.580000</td>\n",
       "      <td>1.000000</td>\n",
       "      <td>15.500000</td>\n",
       "      <td>0.611000</td>\n",
       "      <td>72.000000</td>\n",
       "      <td>289.000000</td>\n",
       "      <td>1.003690</td>\n",
       "      <td>4.010000</td>\n",
       "      <td>2.000000</td>\n",
       "      <td>14.900000</td>\n",
       "      <td>8.000000</td>\n",
       "    </tr>\n",
       "  </tbody>\n",
       "</table>\n",
       "</div>"
      ],
      "text/plain": [
       "       fixed acidity  volatile acidity  citric acid  residual sugar  \\\n",
       "count    1599.000000       1599.000000  1599.000000     1599.000000   \n",
       "mean        8.319637          0.527821     0.270976        2.538806   \n",
       "std         1.741096          0.179060     0.194801        1.409928   \n",
       "min         4.600000          0.120000     0.000000        0.900000   \n",
       "25%         7.100000          0.390000     0.090000        1.900000   \n",
       "50%         7.900000          0.520000     0.260000        2.200000   \n",
       "75%         9.200000          0.640000     0.420000        2.600000   \n",
       "max        15.900000          1.580000     1.000000       15.500000   \n",
       "\n",
       "         chlorides  free sulfur dioxide  total sulfur dioxide      density  \\\n",
       "count  1599.000000          1599.000000           1599.000000  1599.000000   \n",
       "mean      0.087467            15.874922             46.467792     0.996747   \n",
       "std       0.047065            10.460157             32.895324     0.001887   \n",
       "min       0.012000             1.000000              6.000000     0.990070   \n",
       "25%       0.070000             7.000000             22.000000     0.995600   \n",
       "50%       0.079000            14.000000             38.000000     0.996750   \n",
       "75%       0.090000            21.000000             62.000000     0.997835   \n",
       "max       0.611000            72.000000            289.000000     1.003690   \n",
       "\n",
       "                pH    sulphates      alcohol      quality  \n",
       "count  1599.000000  1599.000000  1599.000000  1599.000000  \n",
       "mean      3.311113     0.658149    10.422983     5.636023  \n",
       "std       0.154386     0.169507     1.065668     0.807569  \n",
       "min       2.740000     0.330000     8.400000     3.000000  \n",
       "25%       3.210000     0.550000     9.500000     5.000000  \n",
       "50%       3.310000     0.620000    10.200000     6.000000  \n",
       "75%       3.400000     0.730000    11.100000     6.000000  \n",
       "max       4.010000     2.000000    14.900000     8.000000  "
      ]
     },
     "execution_count": 135,
     "metadata": {},
     "output_type": "execute_result"
    }
   ],
   "source": [
    "data.describe()"
   ]
  },
  {
   "cell_type": "code",
   "execution_count": 136,
   "metadata": {},
   "outputs": [
    {
     "data": {
      "image/png": "[encoded data removed]",
      "text/plain": [
       "<Figure size 1440x1080 with 12 Axes>"
      ]
     },
     "metadata": {
      "needs_background": "light"
     },
     "output_type": "display_data"
    }
   ],
   "source": [
    "data.hist(bins=50, figsize=(20,15))\n",
    "plt.show()"
   ]
  },
  {
   "cell_type": "markdown",
   "metadata": {},
   "source": [
    "## Split into test and train - stratified"
   ]
  },
  {
   "cell_type": "code",
   "execution_count": 137,
   "metadata": {},
   "outputs": [],
   "source": [
    "split = StratifiedShuffleSplit(n_splits=1, test_size=0.2, random_state=42)\n",
    "\n",
    "for train_index, test_index in split.split(data, data[\"quality\"]):\n",
    "    train_set = data.loc[train_index]\n",
    "    test_set = data.loc[test_index]"
   ]
  },
  {
   "cell_type": "code",
   "execution_count": 138,
   "metadata": {},
   "outputs": [
    {
     "data": {
      "text/plain": [
       "5    0.425000\n",
       "6    0.400000\n",
       "7    0.125000\n",
       "4    0.034375\n",
       "8    0.009375\n",
       "3    0.006250\n",
       "Name: quality, dtype: float64"
      ]
     },
     "execution_count": 138,
     "metadata": {},
     "output_type": "execute_result"
    }
   ],
   "source": [
    "test_set[\"quality\"].value_counts() / len(test_set)"
   ]
  },
  {
   "cell_type": "code",
   "execution_count": 139,
   "metadata": {},
   "outputs": [
    {
     "data": {
      "text/plain": [
       "5    0.425891\n",
       "6    0.398999\n",
       "7    0.124453\n",
       "4    0.033146\n",
       "8    0.011257\n",
       "3    0.006254\n",
       "Name: quality, dtype: float64"
      ]
     },
     "execution_count": 139,
     "metadata": {},
     "output_type": "execute_result"
    }
   ],
   "source": [
    "data[\"quality\"].value_counts() / len(data)"
   ]
  },
  {
   "cell_type": "markdown",
   "metadata": {},
   "source": [
    "#### Check if output category is similar in train and test"
   ]
  },
  {
   "cell_type": "code",
   "execution_count": 140,
   "metadata": {},
   "outputs": [
    {
     "data": {
      "image/png": "[encoded data removed]",
      "text/plain": [
       "<Figure size 432x288 with 1 Axes>"
      ]
     },
     "metadata": {
      "needs_background": "light"
     },
     "output_type": "display_data"
    },
    {
     "name": "stdout",
     "output_type": "stream",
     "text": [
      "Average quality: 5.63721657544957\n"
     ]
    }
   ],
   "source": [
    "train_set[\"quality\"].hist()\n",
    "plt.show()\n",
    "print(\"Average quality:\",np.average(train_set[\"quality\"]))"
   ]
  },
  {
   "cell_type": "code",
   "execution_count": 141,
   "metadata": {},
   "outputs": [
    {
     "data": {
      "image/png": "[encoded data removed]",
      "text/plain": [
       "<Figure size 432x288 with 1 Axes>"
      ]
     },
     "metadata": {
      "needs_background": "light"
     },
     "output_type": "display_data"
    },
    {
     "name": "stdout",
     "output_type": "stream",
     "text": [
      "Average quality: 5.63125\n"
     ]
    }
   ],
   "source": [
    "test_set[\"quality\"].hist()\n",
    "plt.show()\n",
    "print(\"Average quality:\",np.average(test_set[\"quality\"]))"
   ]
  },
  {
   "cell_type": "code",
   "execution_count": 142,
   "metadata": {},
   "outputs": [
    {
     "data": {
      "text/html": [
       "<div>\n",
       "<style scoped>\n",
       "    .dataframe tbody tr th:only-of-type {\n",
       "        vertical-align: middle;\n",
       "    }\n",
       "\n",
       "    .dataframe tbody tr th {\n",
       "        vertical-align: top;\n",
       "    }\n",
       "\n",
       "    .dataframe thead th {\n",
       "        text-align: right;\n",
       "    }\n",
       "</style>\n",
       "<table border=\"1\" class=\"dataframe\">\n",
       "  <thead>\n",
       "    <tr style=\"text-align: right;\">\n",
       "      <th></th>\n",
       "      <th>fixed acidity</th>\n",
       "      <th>volatile acidity</th>\n",
       "      <th>citric acid</th>\n",
       "      <th>residual sugar</th>\n",
       "      <th>chlorides</th>\n",
       "      <th>free sulfur dioxide</th>\n",
       "      <th>total sulfur dioxide</th>\n",
       "      <th>density</th>\n",
       "      <th>pH</th>\n",
       "      <th>sulphates</th>\n",
       "      <th>alcohol</th>\n",
       "      <th>quality</th>\n",
       "    </tr>\n",
       "  </thead>\n",
       "  <tbody>\n",
       "    <tr>\n",
       "      <th>1542</th>\n",
       "      <td>6.7</td>\n",
       "      <td>0.855</td>\n",
       "      <td>0.02</td>\n",
       "      <td>1.9</td>\n",
       "      <td>0.064</td>\n",
       "      <td>29.0</td>\n",
       "      <td>38.0</td>\n",
       "      <td>0.99472</td>\n",
       "      <td>3.30</td>\n",
       "      <td>0.56</td>\n",
       "      <td>10.75</td>\n",
       "      <td>6</td>\n",
       "    </tr>\n",
       "    <tr>\n",
       "      <th>1558</th>\n",
       "      <td>6.9</td>\n",
       "      <td>0.630</td>\n",
       "      <td>0.33</td>\n",
       "      <td>6.7</td>\n",
       "      <td>0.235</td>\n",
       "      <td>66.0</td>\n",
       "      <td>115.0</td>\n",
       "      <td>0.99787</td>\n",
       "      <td>3.22</td>\n",
       "      <td>0.56</td>\n",
       "      <td>9.50</td>\n",
       "      <td>5</td>\n",
       "    </tr>\n",
       "    <tr>\n",
       "      <th>344</th>\n",
       "      <td>11.9</td>\n",
       "      <td>0.570</td>\n",
       "      <td>0.50</td>\n",
       "      <td>2.6</td>\n",
       "      <td>0.082</td>\n",
       "      <td>6.0</td>\n",
       "      <td>32.0</td>\n",
       "      <td>1.00060</td>\n",
       "      <td>3.12</td>\n",
       "      <td>0.78</td>\n",
       "      <td>10.70</td>\n",
       "      <td>6</td>\n",
       "    </tr>\n",
       "    <tr>\n",
       "      <th>924</th>\n",
       "      <td>8.6</td>\n",
       "      <td>0.470</td>\n",
       "      <td>0.27</td>\n",
       "      <td>2.3</td>\n",
       "      <td>0.055</td>\n",
       "      <td>14.0</td>\n",
       "      <td>28.0</td>\n",
       "      <td>0.99516</td>\n",
       "      <td>3.18</td>\n",
       "      <td>0.80</td>\n",
       "      <td>11.20</td>\n",
       "      <td>5</td>\n",
       "    </tr>\n",
       "    <tr>\n",
       "      <th>971</th>\n",
       "      <td>10.4</td>\n",
       "      <td>0.260</td>\n",
       "      <td>0.48</td>\n",
       "      <td>1.9</td>\n",
       "      <td>0.066</td>\n",
       "      <td>6.0</td>\n",
       "      <td>10.0</td>\n",
       "      <td>0.99724</td>\n",
       "      <td>3.33</td>\n",
       "      <td>0.87</td>\n",
       "      <td>10.90</td>\n",
       "      <td>6</td>\n",
       "    </tr>\n",
       "  </tbody>\n",
       "</table>\n",
       "</div>"
      ],
      "text/plain": [
       "      fixed acidity  volatile acidity  citric acid  residual sugar  chlorides  \\\n",
       "1542            6.7             0.855         0.02             1.9      0.064   \n",
       "1558            6.9             0.630         0.33             6.7      0.235   \n",
       "344            11.9             0.570         0.50             2.6      0.082   \n",
       "924             8.6             0.470         0.27             2.3      0.055   \n",
       "971            10.4             0.260         0.48             1.9      0.066   \n",
       "\n",
       "      free sulfur dioxide  total sulfur dioxide  density    pH  sulphates  \\\n",
       "1542                 29.0                  38.0  0.99472  3.30       0.56   \n",
       "1558                 66.0                 115.0  0.99787  3.22       0.56   \n",
       "344                   6.0                  32.0  1.00060  3.12       0.78   \n",
       "924                  14.0                  28.0  0.99516  3.18       0.80   \n",
       "971                   6.0                  10.0  0.99724  3.33       0.87   \n",
       "\n",
       "      alcohol  quality  \n",
       "1542    10.75        6  \n",
       "1558     9.50        5  \n",
       "344     10.70        6  \n",
       "924     11.20        5  \n",
       "971     10.90        6  "
      ]
     },
     "execution_count": 142,
     "metadata": {},
     "output_type": "execute_result"
    }
   ],
   "source": [
    "train_set.head()"
   ]
  },
  {
   "cell_type": "code",
   "execution_count": 143,
   "metadata": {},
   "outputs": [
    {
     "data": {
      "text/html": [
       "<div>\n",
       "<style scoped>\n",
       "    .dataframe tbody tr th:only-of-type {\n",
       "        vertical-align: middle;\n",
       "    }\n",
       "\n",
       "    .dataframe tbody tr th {\n",
       "        vertical-align: top;\n",
       "    }\n",
       "\n",
       "    .dataframe thead th {\n",
       "        text-align: right;\n",
       "    }\n",
       "</style>\n",
       "<table border=\"1\" class=\"dataframe\">\n",
       "  <thead>\n",
       "    <tr style=\"text-align: right;\">\n",
       "      <th></th>\n",
       "      <th>fixed acidity</th>\n",
       "      <th>volatile acidity</th>\n",
       "      <th>citric acid</th>\n",
       "      <th>residual sugar</th>\n",
       "      <th>chlorides</th>\n",
       "      <th>free sulfur dioxide</th>\n",
       "      <th>total sulfur dioxide</th>\n",
       "      <th>density</th>\n",
       "      <th>pH</th>\n",
       "      <th>sulphates</th>\n",
       "      <th>alcohol</th>\n",
       "      <th>quality</th>\n",
       "    </tr>\n",
       "  </thead>\n",
       "  <tbody>\n",
       "    <tr>\n",
       "      <th>963</th>\n",
       "      <td>8.8</td>\n",
       "      <td>0.27</td>\n",
       "      <td>0.39</td>\n",
       "      <td>2.0</td>\n",
       "      <td>0.100</td>\n",
       "      <td>20.0</td>\n",
       "      <td>27.0</td>\n",
       "      <td>0.99546</td>\n",
       "      <td>3.15</td>\n",
       "      <td>0.69</td>\n",
       "      <td>11.2</td>\n",
       "      <td>6</td>\n",
       "    </tr>\n",
       "    <tr>\n",
       "      <th>475</th>\n",
       "      <td>9.6</td>\n",
       "      <td>0.68</td>\n",
       "      <td>0.24</td>\n",
       "      <td>2.2</td>\n",
       "      <td>0.087</td>\n",
       "      <td>5.0</td>\n",
       "      <td>28.0</td>\n",
       "      <td>0.99880</td>\n",
       "      <td>3.14</td>\n",
       "      <td>0.60</td>\n",
       "      <td>10.2</td>\n",
       "      <td>5</td>\n",
       "    </tr>\n",
       "    <tr>\n",
       "      <th>1</th>\n",
       "      <td>7.8</td>\n",
       "      <td>0.88</td>\n",
       "      <td>0.00</td>\n",
       "      <td>2.6</td>\n",
       "      <td>0.098</td>\n",
       "      <td>25.0</td>\n",
       "      <td>67.0</td>\n",
       "      <td>0.99680</td>\n",
       "      <td>3.20</td>\n",
       "      <td>0.68</td>\n",
       "      <td>9.8</td>\n",
       "      <td>5</td>\n",
       "    </tr>\n",
       "    <tr>\n",
       "      <th>329</th>\n",
       "      <td>10.7</td>\n",
       "      <td>0.46</td>\n",
       "      <td>0.39</td>\n",
       "      <td>2.0</td>\n",
       "      <td>0.061</td>\n",
       "      <td>7.0</td>\n",
       "      <td>15.0</td>\n",
       "      <td>0.99810</td>\n",
       "      <td>3.18</td>\n",
       "      <td>0.62</td>\n",
       "      <td>9.5</td>\n",
       "      <td>5</td>\n",
       "    </tr>\n",
       "    <tr>\n",
       "      <th>149</th>\n",
       "      <td>8.2</td>\n",
       "      <td>0.40</td>\n",
       "      <td>0.44</td>\n",
       "      <td>2.8</td>\n",
       "      <td>0.089</td>\n",
       "      <td>11.0</td>\n",
       "      <td>43.0</td>\n",
       "      <td>0.99750</td>\n",
       "      <td>3.53</td>\n",
       "      <td>0.61</td>\n",
       "      <td>10.5</td>\n",
       "      <td>6</td>\n",
       "    </tr>\n",
       "  </tbody>\n",
       "</table>\n",
       "</div>"
      ],
      "text/plain": [
       "     fixed acidity  volatile acidity  citric acid  residual sugar  chlorides  \\\n",
       "963            8.8              0.27         0.39             2.0      0.100   \n",
       "475            9.6              0.68         0.24             2.2      0.087   \n",
       "1              7.8              0.88         0.00             2.6      0.098   \n",
       "329           10.7              0.46         0.39             2.0      0.061   \n",
       "149            8.2              0.40         0.44             2.8      0.089   \n",
       "\n",
       "     free sulfur dioxide  total sulfur dioxide  density    pH  sulphates  \\\n",
       "963                 20.0                  27.0  0.99546  3.15       0.69   \n",
       "475                  5.0                  28.0  0.99880  3.14       0.60   \n",
       "1                   25.0                  67.0  0.99680  3.20       0.68   \n",
       "329                  7.0                  15.0  0.99810  3.18       0.62   \n",
       "149                 11.0                  43.0  0.99750  3.53       0.61   \n",
       "\n",
       "     alcohol  quality  \n",
       "963     11.2        6  \n",
       "475     10.2        5  \n",
       "1        9.8        5  \n",
       "329      9.5        5  \n",
       "149     10.5        6  "
      ]
     },
     "execution_count": 143,
     "metadata": {},
     "output_type": "execute_result"
    }
   ],
   "source": [
    "test_set.head()"
   ]
  },
  {
   "cell_type": "markdown",
   "metadata": {},
   "source": [
    "## More insight"
   ]
  },
  {
   "cell_type": "code",
   "execution_count": 144,
   "metadata": {},
   "outputs": [],
   "source": [
    "wines = train_set.copy()"
   ]
  },
  {
   "cell_type": "code",
   "execution_count": 145,
   "metadata": {},
   "outputs": [
    {
     "data": {
      "text/plain": [
       "quality                 1.000000\n",
       "alcohol                 0.481197\n",
       "sulphates               0.228050\n",
       "citric acid             0.210802\n",
       "fixed acidity           0.107940\n",
       "residual sugar          0.003710\n",
       "free sulfur dioxide    -0.048291\n",
       "pH                     -0.052063\n",
       "chlorides              -0.120231\n",
       "density                -0.193009\n",
       "total sulfur dioxide   -0.194511\n",
       "volatile acidity       -0.383249\n",
       "Name: quality, dtype: float64"
      ]
     },
     "execution_count": 145,
     "metadata": {},
     "output_type": "execute_result"
    }
   ],
   "source": [
    "corr = wines.corr()\n",
    "corr[\"quality\"].sort_values(ascending= False)"
   ]
  },
  {
   "cell_type": "code",
   "execution_count": 146,
   "metadata": {},
   "outputs": [
    {
     "data": {
      "image/png": "[encoded data removed]",
      "text/plain": [
       "<Figure size 864x576 with 36 Axes>"
      ]
     },
     "metadata": {
      "needs_background": "light"
     },
     "output_type": "display_data"
    }
   ],
   "source": [
    "columns = [\"quality\",\"alcohol\",\"sulphates\",\"volatile acidity\", \"total sulfur dioxide\",\"citric acid\"]\n",
    "scatter_matrix(wines[columns], figsize=(12, 8))\n",
    "plt.show()"
   ]
  },
  {
   "cell_type": "markdown",
   "metadata": {},
   "source": [
    "## Pipeline"
   ]
  },
  {
   "cell_type": "code",
   "execution_count": 147,
   "metadata": {},
   "outputs": [],
   "source": [
    "y_train = train_set[\"quality\"]\n",
    "X_train = train_set.drop([\"quality\"], axis = 1)"
   ]
  },
  {
   "cell_type": "code",
   "execution_count": 148,
   "metadata": {},
   "outputs": [
    {
     "data": {
      "text/html": [
       "<div>\n",
       "<style scoped>\n",
       "    .dataframe tbody tr th:only-of-type {\n",
       "        vertical-align: middle;\n",
       "    }\n",
       "\n",
       "    .dataframe tbody tr th {\n",
       "        vertical-align: top;\n",
       "    }\n",
       "\n",
       "    .dataframe thead th {\n",
       "        text-align: right;\n",
       "    }\n",
       "</style>\n",
       "<table border=\"1\" class=\"dataframe\">\n",
       "  <thead>\n",
       "    <tr style=\"text-align: right;\">\n",
       "      <th></th>\n",
       "      <th>fixed acidity</th>\n",
       "      <th>volatile acidity</th>\n",
       "      <th>citric acid</th>\n",
       "      <th>residual sugar</th>\n",
       "      <th>chlorides</th>\n",
       "      <th>free sulfur dioxide</th>\n",
       "      <th>total sulfur dioxide</th>\n",
       "      <th>density</th>\n",
       "      <th>pH</th>\n",
       "      <th>sulphates</th>\n",
       "      <th>alcohol</th>\n",
       "    </tr>\n",
       "  </thead>\n",
       "  <tbody>\n",
       "    <tr>\n",
       "      <th>1542</th>\n",
       "      <td>6.7</td>\n",
       "      <td>0.855</td>\n",
       "      <td>0.02</td>\n",
       "      <td>1.90</td>\n",
       "      <td>0.064</td>\n",
       "      <td>29.0</td>\n",
       "      <td>38.0</td>\n",
       "      <td>0.99472</td>\n",
       "      <td>3.30</td>\n",
       "      <td>0.56</td>\n",
       "      <td>10.75</td>\n",
       "    </tr>\n",
       "    <tr>\n",
       "      <th>1558</th>\n",
       "      <td>6.9</td>\n",
       "      <td>0.630</td>\n",
       "      <td>0.33</td>\n",
       "      <td>6.70</td>\n",
       "      <td>0.235</td>\n",
       "      <td>66.0</td>\n",
       "      <td>115.0</td>\n",
       "      <td>0.99787</td>\n",
       "      <td>3.22</td>\n",
       "      <td>0.56</td>\n",
       "      <td>9.50</td>\n",
       "    </tr>\n",
       "    <tr>\n",
       "      <th>344</th>\n",
       "      <td>11.9</td>\n",
       "      <td>0.570</td>\n",
       "      <td>0.50</td>\n",
       "      <td>2.60</td>\n",
       "      <td>0.082</td>\n",
       "      <td>6.0</td>\n",
       "      <td>32.0</td>\n",
       "      <td>1.00060</td>\n",
       "      <td>3.12</td>\n",
       "      <td>0.78</td>\n",
       "      <td>10.70</td>\n",
       "    </tr>\n",
       "    <tr>\n",
       "      <th>924</th>\n",
       "      <td>8.6</td>\n",
       "      <td>0.470</td>\n",
       "      <td>0.27</td>\n",
       "      <td>2.30</td>\n",
       "      <td>0.055</td>\n",
       "      <td>14.0</td>\n",
       "      <td>28.0</td>\n",
       "      <td>0.99516</td>\n",
       "      <td>3.18</td>\n",
       "      <td>0.80</td>\n",
       "      <td>11.20</td>\n",
       "    </tr>\n",
       "    <tr>\n",
       "      <th>971</th>\n",
       "      <td>10.4</td>\n",
       "      <td>0.260</td>\n",
       "      <td>0.48</td>\n",
       "      <td>1.90</td>\n",
       "      <td>0.066</td>\n",
       "      <td>6.0</td>\n",
       "      <td>10.0</td>\n",
       "      <td>0.99724</td>\n",
       "      <td>3.33</td>\n",
       "      <td>0.87</td>\n",
       "      <td>10.90</td>\n",
       "    </tr>\n",
       "    <tr>\n",
       "      <th>...</th>\n",
       "      <td>...</td>\n",
       "      <td>...</td>\n",
       "      <td>...</td>\n",
       "      <td>...</td>\n",
       "      <td>...</td>\n",
       "      <td>...</td>\n",
       "      <td>...</td>\n",
       "      <td>...</td>\n",
       "      <td>...</td>\n",
       "      <td>...</td>\n",
       "      <td>...</td>\n",
       "    </tr>\n",
       "    <tr>\n",
       "      <th>1056</th>\n",
       "      <td>8.9</td>\n",
       "      <td>0.480</td>\n",
       "      <td>0.53</td>\n",
       "      <td>4.00</td>\n",
       "      <td>0.101</td>\n",
       "      <td>3.0</td>\n",
       "      <td>10.0</td>\n",
       "      <td>0.99586</td>\n",
       "      <td>3.21</td>\n",
       "      <td>0.59</td>\n",
       "      <td>12.10</td>\n",
       "    </tr>\n",
       "    <tr>\n",
       "      <th>1394</th>\n",
       "      <td>6.4</td>\n",
       "      <td>0.570</td>\n",
       "      <td>0.14</td>\n",
       "      <td>3.90</td>\n",
       "      <td>0.070</td>\n",
       "      <td>27.0</td>\n",
       "      <td>73.0</td>\n",
       "      <td>0.99669</td>\n",
       "      <td>3.32</td>\n",
       "      <td>0.48</td>\n",
       "      <td>9.20</td>\n",
       "    </tr>\n",
       "    <tr>\n",
       "      <th>337</th>\n",
       "      <td>7.8</td>\n",
       "      <td>0.430</td>\n",
       "      <td>0.32</td>\n",
       "      <td>2.80</td>\n",
       "      <td>0.080</td>\n",
       "      <td>29.0</td>\n",
       "      <td>58.0</td>\n",
       "      <td>0.99740</td>\n",
       "      <td>3.31</td>\n",
       "      <td>0.64</td>\n",
       "      <td>10.30</td>\n",
       "    </tr>\n",
       "    <tr>\n",
       "      <th>539</th>\n",
       "      <td>11.2</td>\n",
       "      <td>0.500</td>\n",
       "      <td>0.74</td>\n",
       "      <td>5.15</td>\n",
       "      <td>0.100</td>\n",
       "      <td>5.0</td>\n",
       "      <td>17.0</td>\n",
       "      <td>0.99960</td>\n",
       "      <td>3.22</td>\n",
       "      <td>0.62</td>\n",
       "      <td>11.20</td>\n",
       "    </tr>\n",
       "    <tr>\n",
       "      <th>1083</th>\n",
       "      <td>8.7</td>\n",
       "      <td>0.420</td>\n",
       "      <td>0.45</td>\n",
       "      <td>2.40</td>\n",
       "      <td>0.072</td>\n",
       "      <td>32.0</td>\n",
       "      <td>59.0</td>\n",
       "      <td>0.99617</td>\n",
       "      <td>3.33</td>\n",
       "      <td>0.77</td>\n",
       "      <td>12.00</td>\n",
       "    </tr>\n",
       "  </tbody>\n",
       "</table>\n",
       "<p>1279 rows × 11 columns</p>\n",
       "</div>"
      ],
      "text/plain": [
       "      fixed acidity  volatile acidity  citric acid  residual sugar  chlorides  \\\n",
       "1542            6.7             0.855         0.02            1.90      0.064   \n",
       "1558            6.9             0.630         0.33            6.70      0.235   \n",
       "344            11.9             0.570         0.50            2.60      0.082   \n",
       "924             8.6             0.470         0.27            2.30      0.055   \n",
       "971            10.4             0.260         0.48            1.90      0.066   \n",
       "...             ...               ...          ...             ...        ...   \n",
       "1056            8.9             0.480         0.53            4.00      0.101   \n",
       "1394            6.4             0.570         0.14            3.90      0.070   \n",
       "337             7.8             0.430         0.32            2.80      0.080   \n",
       "539            11.2             0.500         0.74            5.15      0.100   \n",
       "1083            8.7             0.420         0.45            2.40      0.072   \n",
       "\n",
       "      free sulfur dioxide  total sulfur dioxide  density    pH  sulphates  \\\n",
       "1542                 29.0                  38.0  0.99472  3.30       0.56   \n",
       "1558                 66.0                 115.0  0.99787  3.22       0.56   \n",
       "344                   6.0                  32.0  1.00060  3.12       0.78   \n",
       "924                  14.0                  28.0  0.99516  3.18       0.80   \n",
       "971                   6.0                  10.0  0.99724  3.33       0.87   \n",
       "...                   ...                   ...      ...   ...        ...   \n",
       "1056                  3.0                  10.0  0.99586  3.21       0.59   \n",
       "1394                 27.0                  73.0  0.99669  3.32       0.48   \n",
       "337                  29.0                  58.0  0.99740  3.31       0.64   \n",
       "539                   5.0                  17.0  0.99960  3.22       0.62   \n",
       "1083                 32.0                  59.0  0.99617  3.33       0.77   \n",
       "\n",
       "      alcohol  \n",
       "1542    10.75  \n",
       "1558     9.50  \n",
       "344     10.70  \n",
       "924     11.20  \n",
       "971     10.90  \n",
       "...       ...  \n",
       "1056    12.10  \n",
       "1394     9.20  \n",
       "337     10.30  \n",
       "539     11.20  \n",
       "1083    12.00  \n",
       "\n",
       "[1279 rows x 11 columns]"
      ]
     },
     "execution_count": 148,
     "metadata": {},
     "output_type": "execute_result"
    }
   ],
   "source": [
    "X_train"
   ]
  },
  {
   "cell_type": "code",
   "execution_count": 152,
   "metadata": {},
   "outputs": [],
   "source": [
    "num_pipeline = Pipeline([\n",
    "        ('imputer', SimpleImputer(strategy=\"median\")), #no empty value, but just to be sure\n",
    "        ('std_scaler', StandardScaler())\n",
    "    ])\n",
    "\n",
    "num_cols = list(X_train)\n",
    "\n",
    "transformer = ColumnTransformer([\n",
    "        (\"num\", num_pipeline, num_cols)\n",
    "        #(\"cat\", OneHotEncoder(), cat_cols),\n",
    "    ])\n",
    "\n",
    "X_train_trans = transformer.fit_transform(X_train)"
   ]
  },
  {
   "cell_type": "code",
   "execution_count": 153,
   "metadata": {},
   "outputs": [
    {
     "data": {
      "text/plain": [
       "array([-0.94797009,  1.84038456, -1.30310213, -0.46801054, -0.48927942,\n",
       "        1.22949584, -0.27851741, -1.08849143, -0.05665069, -0.58149257,\n",
       "        0.30561112])"
      ]
     },
     "execution_count": 153,
     "metadata": {},
     "output_type": "execute_result"
    }
   ],
   "source": [
    "X_train_trans[0]"
   ]
  },
  {
   "cell_type": "markdown",
   "metadata": {},
   "source": [
    "## Training"
   ]
  },
  {
   "cell_type": "code",
   "execution_count": 154,
   "metadata": {},
   "outputs": [
    {
     "data": {
      "text/plain": [
       "RandomForestRegressor(random_state=42)"
      ]
     },
     "execution_count": 154,
     "metadata": {},
     "output_type": "execute_result"
    }
   ],
   "source": [
    "from sklearn.ensemble import RandomForestRegressor\n",
    "\n",
    "forest_reg = RandomForestRegressor(n_estimators=100, random_state=42)\n",
    "forest_reg.fit(X_train_trans, y_train)"
   ]
  },
  {
   "cell_type": "markdown",
   "metadata": {},
   "source": [
    "#### Evaluation"
   ]
  },
  {
   "cell_type": "code",
   "execution_count": 155,
   "metadata": {},
   "outputs": [
    {
     "name": "stdout",
     "output_type": "stream",
     "text": [
      "Scores: [0.62097517 0.64460562 0.53551523 0.56953037 0.47434659 0.55100406\n",
      " 0.52027261 0.6325951  0.66051117 0.68562805]\n",
      "Mean: 0.5894983968410934\n",
      "Standard deviation: 0.06558620986111337\n"
     ]
    }
   ],
   "source": [
    "scores = cross_val_score(forest_reg, X_train_trans, y_train,\n",
    "                         scoring=\"neg_mean_squared_error\", cv=10)\n",
    "\n",
    "print(\"Scores:\", np.sqrt(-scores))\n",
    "print(\"Mean:\", np.sqrt(-scores).mean())\n",
    "print(\"Standard deviation:\", np.sqrt(-scores).std())"
   ]
  },
  {
   "cell_type": "markdown",
   "metadata": {},
   "source": [
    "## Fine tuning"
   ]
  },
  {
   "cell_type": "code",
   "execution_count": 156,
   "metadata": {},
   "outputs": [
    {
     "name": "stdout",
     "output_type": "stream",
     "text": [
      "Fitting 5 folds for each of 32 candidates, totalling 160 fits\n",
      "[CV] max_features=2, n_estimators=3 ..................................\n",
      "[CV] ................... max_features=2, n_estimators=3, total=   0.0s\n",
      "[CV] max_features=2, n_estimators=3 ..................................\n",
      "[CV] ................... max_features=2, n_estimators=3, total=   0.0s\n",
      "[CV] max_features=2, n_estimators=3 ..................................\n",
      "[CV] ................... max_features=2, n_estimators=3, total=   0.0s\n",
      "[CV] max_features=2, n_estimators=3 ..................................\n",
      "[CV] ................... max_features=2, n_estimators=3, total=   0.0s\n",
      "[CV] max_features=2, n_estimators=3 ..................................\n",
      "[CV] ................... max_features=2, n_estimators=3, total=   0.0s\n",
      "[CV] max_features=2, n_estimators=10 .................................\n",
      "[CV] .................. max_features=2, n_estimators=10, total=   0.0s\n",
      "[CV] max_features=2, n_estimators=10 .................................\n",
      "[CV] .................. max_features=2, n_estimators=10, total=   0.0s\n",
      "[CV] max_features=2, n_estimators=10 .................................\n",
      "[CV] .................. max_features=2, n_estimators=10, total=   0.0s\n",
      "[CV] max_features=2, n_estimators=10 .................................\n",
      "[CV] .................. max_features=2, n_estimators=10, total=   0.0s\n",
      "[CV] max_features=2, n_estimators=10 .................................\n",
      "[CV] .................. max_features=2, n_estimators=10, total=   0.0s\n",
      "[CV] max_features=2, n_estimators=30 .................................\n"
     ]
    },
    {
     "name": "stderr",
     "output_type": "stream",
     "text": [
      "[Parallel(n_jobs=1)]: Using backend SequentialBackend with 1 concurrent workers.\n",
      "[Parallel(n_jobs=1)]: Done   1 out of   1 | elapsed:    0.0s remaining:    0.0s\n"
     ]
    },
    {
     "name": "stdout",
     "output_type": "stream",
     "text": [
      "[CV] .................. max_features=2, n_estimators=30, total=   0.1s\n",
      "[CV] max_features=2, n_estimators=30 .................................\n",
      "[CV] .................. max_features=2, n_estimators=30, total=   0.1s\n",
      "[CV] max_features=2, n_estimators=30 .................................\n",
      "[CV] .................. max_features=2, n_estimators=30, total=   0.1s\n",
      "[CV] max_features=2, n_estimators=30 .................................\n",
      "[CV] .................. max_features=2, n_estimators=30, total=   0.1s\n",
      "[CV] max_features=2, n_estimators=30 .................................\n",
      "[CV] .................. max_features=2, n_estimators=30, total=   0.1s\n",
      "[CV] max_features=2, n_estimators=100 ................................\n",
      "[CV] ................. max_features=2, n_estimators=100, total=   0.2s\n",
      "[CV] max_features=2, n_estimators=100 ................................\n",
      "[CV] ................. max_features=2, n_estimators=100, total=   0.2s\n",
      "[CV] max_features=2, n_estimators=100 ................................\n",
      "[CV] ................. max_features=2, n_estimators=100, total=   0.2s\n",
      "[CV] max_features=2, n_estimators=100 ................................\n",
      "[CV] ................. max_features=2, n_estimators=100, total=   0.2s\n",
      "[CV] max_features=2, n_estimators=100 ................................\n",
      "[CV] ................. max_features=2, n_estimators=100, total=   0.2s\n",
      "[CV] max_features=4, n_estimators=3 ..................................\n",
      "[CV] ................... max_features=4, n_estimators=3, total=   0.0s\n",
      "[CV] max_features=4, n_estimators=3 ..................................\n",
      "[CV] ................... max_features=4, n_estimators=3, total=   0.0s\n",
      "[CV] max_features=4, n_estimators=3 ..................................\n",
      "[CV] ................... max_features=4, n_estimators=3, total=   0.0s\n",
      "[CV] max_features=4, n_estimators=3 ..................................\n",
      "[CV] ................... max_features=4, n_estimators=3, total=   0.0s\n",
      "[CV] max_features=4, n_estimators=3 ..................................\n",
      "[CV] ................... max_features=4, n_estimators=3, total=   0.0s\n",
      "[CV] max_features=4, n_estimators=10 .................................\n",
      "[CV] .................. max_features=4, n_estimators=10, total=   0.0s\n",
      "[CV] max_features=4, n_estimators=10 .................................\n",
      "[CV] .................. max_features=4, n_estimators=10, total=   0.0s\n",
      "[CV] max_features=4, n_estimators=10 .................................\n",
      "[CV] .................. max_features=4, n_estimators=10, total=   0.0s\n",
      "[CV] max_features=4, n_estimators=10 .................................\n",
      "[CV] .................. max_features=4, n_estimators=10, total=   0.0s\n",
      "[CV] max_features=4, n_estimators=10 .................................\n",
      "[CV] .................. max_features=4, n_estimators=10, total=   0.0s\n",
      "[CV] max_features=4, n_estimators=30 .................................\n",
      "[CV] .................. max_features=4, n_estimators=30, total=   0.1s\n",
      "[CV] max_features=4, n_estimators=30 .................................\n",
      "[CV] .................. max_features=4, n_estimators=30, total=   0.1s\n",
      "[CV] max_features=4, n_estimators=30 .................................\n",
      "[CV] .................. max_features=4, n_estimators=30, total=   0.1s\n",
      "[CV] max_features=4, n_estimators=30 .................................\n",
      "[CV] .................. max_features=4, n_estimators=30, total=   0.1s\n",
      "[CV] max_features=4, n_estimators=30 .................................\n",
      "[CV] .................. max_features=4, n_estimators=30, total=   0.1s\n",
      "[CV] max_features=4, n_estimators=100 ................................\n",
      "[CV] ................. max_features=4, n_estimators=100, total=   0.3s\n",
      "[CV] max_features=4, n_estimators=100 ................................\n",
      "[CV] ................. max_features=4, n_estimators=100, total=   0.2s\n",
      "[CV] max_features=4, n_estimators=100 ................................\n",
      "[CV] ................. max_features=4, n_estimators=100, total=   0.3s\n",
      "[CV] max_features=4, n_estimators=100 ................................\n",
      "[CV] ................. max_features=4, n_estimators=100, total=   0.3s\n",
      "[CV] max_features=4, n_estimators=100 ................................\n",
      "[CV] ................. max_features=4, n_estimators=100, total=   0.3s\n",
      "[CV] max_features=6, n_estimators=3 ..................................\n",
      "[CV] ................... max_features=6, n_estimators=3, total=   0.0s\n",
      "[CV] max_features=6, n_estimators=3 ..................................\n",
      "[CV] ................... max_features=6, n_estimators=3, total=   0.0s\n",
      "[CV] max_features=6, n_estimators=3 ..................................\n",
      "[CV] ................... max_features=6, n_estimators=3, total=   0.0s\n",
      "[CV] max_features=6, n_estimators=3 ..................................\n",
      "[CV] ................... max_features=6, n_estimators=3, total=   0.0s\n",
      "[CV] max_features=6, n_estimators=3 ..................................\n",
      "[CV] ................... max_features=6, n_estimators=3, total=   0.0s\n",
      "[CV] max_features=6, n_estimators=10 .................................\n",
      "[CV] .................. max_features=6, n_estimators=10, total=   0.0s\n",
      "[CV] max_features=6, n_estimators=10 .................................\n",
      "[CV] .................. max_features=6, n_estimators=10, total=   0.0s\n",
      "[CV] max_features=6, n_estimators=10 .................................\n",
      "[CV] .................. max_features=6, n_estimators=10, total=   0.0s\n",
      "[CV] max_features=6, n_estimators=10 .................................\n",
      "[CV] .................. max_features=6, n_estimators=10, total=   0.0s\n",
      "[CV] max_features=6, n_estimators=10 .................................\n",
      "[CV] .................. max_features=6, n_estimators=10, total=   0.0s\n",
      "[CV] max_features=6, n_estimators=30 .................................\n",
      "[CV] .................. max_features=6, n_estimators=30, total=   0.1s\n",
      "[CV] max_features=6, n_estimators=30 .................................\n",
      "[CV] .................. max_features=6, n_estimators=30, total=   0.1s\n",
      "[CV] max_features=6, n_estimators=30 .................................\n",
      "[CV] .................. max_features=6, n_estimators=30, total=   0.1s\n",
      "[CV] max_features=6, n_estimators=30 .................................\n",
      "[CV] .................. max_features=6, n_estimators=30, total=   0.1s\n",
      "[CV] max_features=6, n_estimators=30 .................................\n",
      "[CV] .................. max_features=6, n_estimators=30, total=   0.1s\n",
      "[CV] max_features=6, n_estimators=100 ................................\n",
      "[CV] ................. max_features=6, n_estimators=100, total=   0.3s\n",
      "[CV] max_features=6, n_estimators=100 ................................\n",
      "[CV] ................. max_features=6, n_estimators=100, total=   0.3s\n",
      "[CV] max_features=6, n_estimators=100 ................................\n",
      "[CV] ................. max_features=6, n_estimators=100, total=   0.3s\n",
      "[CV] max_features=6, n_estimators=100 ................................\n",
      "[CV] ................. max_features=6, n_estimators=100, total=   0.3s\n",
      "[CV] max_features=6, n_estimators=100 ................................\n",
      "[CV] ................. max_features=6, n_estimators=100, total=   0.3s\n",
      "[CV] max_features=8, n_estimators=3 ..................................\n",
      "[CV] ................... max_features=8, n_estimators=3, total=   0.0s\n",
      "[CV] max_features=8, n_estimators=3 ..................................\n",
      "[CV] ................... max_features=8, n_estimators=3, total=   0.0s\n",
      "[CV] max_features=8, n_estimators=3 ..................................\n",
      "[CV] ................... max_features=8, n_estimators=3, total=   0.0s\n",
      "[CV] max_features=8, n_estimators=3 ..................................\n",
      "[CV] ................... max_features=8, n_estimators=3, total=   0.0s\n",
      "[CV] max_features=8, n_estimators=3 ..................................\n",
      "[CV] ................... max_features=8, n_estimators=3, total=   0.0s\n",
      "[CV] max_features=8, n_estimators=10 .................................\n",
      "[CV] .................. max_features=8, n_estimators=10, total=   0.0s\n",
      "[CV] max_features=8, n_estimators=10 .................................\n",
      "[CV] .................. max_features=8, n_estimators=10, total=   0.0s\n",
      "[CV] max_features=8, n_estimators=10 .................................\n",
      "[CV] .................. max_features=8, n_estimators=10, total=   0.0s\n",
      "[CV] max_features=8, n_estimators=10 .................................\n"
     ]
    },
    {
     "name": "stdout",
     "output_type": "stream",
     "text": [
      "[CV] .................. max_features=8, n_estimators=10, total=   0.0s\n",
      "[CV] max_features=8, n_estimators=10 .................................\n",
      "[CV] .................. max_features=8, n_estimators=10, total=   0.0s\n",
      "[CV] max_features=8, n_estimators=30 .................................\n",
      "[CV] .................. max_features=8, n_estimators=30, total=   0.1s\n",
      "[CV] max_features=8, n_estimators=30 .................................\n",
      "[CV] .................. max_features=8, n_estimators=30, total=   0.1s\n",
      "[CV] max_features=8, n_estimators=30 .................................\n",
      "[CV] .................. max_features=8, n_estimators=30, total=   0.1s\n",
      "[CV] max_features=8, n_estimators=30 .................................\n",
      "[CV] .................. max_features=8, n_estimators=30, total=   0.1s\n",
      "[CV] max_features=8, n_estimators=30 .................................\n",
      "[CV] .................. max_features=8, n_estimators=30, total=   0.1s\n",
      "[CV] max_features=8, n_estimators=100 ................................\n",
      "[CV] ................. max_features=8, n_estimators=100, total=   0.4s\n",
      "[CV] max_features=8, n_estimators=100 ................................\n",
      "[CV] ................. max_features=8, n_estimators=100, total=   0.4s\n",
      "[CV] max_features=8, n_estimators=100 ................................\n",
      "[CV] ................. max_features=8, n_estimators=100, total=   0.3s\n",
      "[CV] max_features=8, n_estimators=100 ................................\n",
      "[CV] ................. max_features=8, n_estimators=100, total=   0.3s\n",
      "[CV] max_features=8, n_estimators=100 ................................\n",
      "[CV] ................. max_features=8, n_estimators=100, total=   0.3s\n",
      "[CV] bootstrap=False, max_features=2, n_estimators=3 .................\n",
      "[CV] .. bootstrap=False, max_features=2, n_estimators=3, total=   0.0s\n",
      "[CV] bootstrap=False, max_features=2, n_estimators=3 .................\n",
      "[CV] .. bootstrap=False, max_features=2, n_estimators=3, total=   0.0s\n",
      "[CV] bootstrap=False, max_features=2, n_estimators=3 .................\n",
      "[CV] .. bootstrap=False, max_features=2, n_estimators=3, total=   0.0s\n",
      "[CV] bootstrap=False, max_features=2, n_estimators=3 .................\n",
      "[CV] .. bootstrap=False, max_features=2, n_estimators=3, total=   0.0s\n",
      "[CV] bootstrap=False, max_features=2, n_estimators=3 .................\n",
      "[CV] .. bootstrap=False, max_features=2, n_estimators=3, total=   0.0s\n",
      "[CV] bootstrap=False, max_features=2, n_estimators=10 ................\n",
      "[CV] . bootstrap=False, max_features=2, n_estimators=10, total=   0.0s\n",
      "[CV] bootstrap=False, max_features=2, n_estimators=10 ................\n",
      "[CV] . bootstrap=False, max_features=2, n_estimators=10, total=   0.0s\n",
      "[CV] bootstrap=False, max_features=2, n_estimators=10 ................\n",
      "[CV] . bootstrap=False, max_features=2, n_estimators=10, total=   0.0s\n",
      "[CV] bootstrap=False, max_features=2, n_estimators=10 ................\n",
      "[CV] . bootstrap=False, max_features=2, n_estimators=10, total=   0.0s\n",
      "[CV] bootstrap=False, max_features=2, n_estimators=10 ................\n",
      "[CV] . bootstrap=False, max_features=2, n_estimators=10, total=   0.0s\n",
      "[CV] bootstrap=False, max_features=2, n_estimators=100 ...............\n",
      "[CV]  bootstrap=False, max_features=2, n_estimators=100, total=   0.2s\n",
      "[CV] bootstrap=False, max_features=2, n_estimators=100 ...............\n",
      "[CV]  bootstrap=False, max_features=2, n_estimators=100, total=   0.2s\n",
      "[CV] bootstrap=False, max_features=2, n_estimators=100 ...............\n",
      "[CV]  bootstrap=False, max_features=2, n_estimators=100, total=   0.2s\n",
      "[CV] bootstrap=False, max_features=2, n_estimators=100 ...............\n",
      "[CV]  bootstrap=False, max_features=2, n_estimators=100, total=   0.3s\n",
      "[CV] bootstrap=False, max_features=2, n_estimators=100 ...............\n",
      "[CV]  bootstrap=False, max_features=2, n_estimators=100, total=   0.2s\n",
      "[CV] bootstrap=False, max_features=2, n_estimators=300 ...............\n",
      "[CV]  bootstrap=False, max_features=2, n_estimators=300, total=   0.7s\n",
      "[CV] bootstrap=False, max_features=2, n_estimators=300 ...............\n",
      "[CV]  bootstrap=False, max_features=2, n_estimators=300, total=   0.7s\n",
      "[CV] bootstrap=False, max_features=2, n_estimators=300 ...............\n",
      "[CV]  bootstrap=False, max_features=2, n_estimators=300, total=   0.6s\n",
      "[CV] bootstrap=False, max_features=2, n_estimators=300 ...............\n",
      "[CV]  bootstrap=False, max_features=2, n_estimators=300, total=   0.6s\n",
      "[CV] bootstrap=False, max_features=2, n_estimators=300 ...............\n",
      "[CV]  bootstrap=False, max_features=2, n_estimators=300, total=   0.6s\n",
      "[CV] bootstrap=False, max_features=3, n_estimators=3 .................\n",
      "[CV] .. bootstrap=False, max_features=3, n_estimators=3, total=   0.0s\n",
      "[CV] bootstrap=False, max_features=3, n_estimators=3 .................\n",
      "[CV] .. bootstrap=False, max_features=3, n_estimators=3, total=   0.0s\n",
      "[CV] bootstrap=False, max_features=3, n_estimators=3 .................\n",
      "[CV] .. bootstrap=False, max_features=3, n_estimators=3, total=   0.0s\n",
      "[CV] bootstrap=False, max_features=3, n_estimators=3 .................\n",
      "[CV] .. bootstrap=False, max_features=3, n_estimators=3, total=   0.0s\n",
      "[CV] bootstrap=False, max_features=3, n_estimators=3 .................\n",
      "[CV] .. bootstrap=False, max_features=3, n_estimators=3, total=   0.0s\n",
      "[CV] bootstrap=False, max_features=3, n_estimators=10 ................\n",
      "[CV] . bootstrap=False, max_features=3, n_estimators=10, total=   0.0s\n",
      "[CV] bootstrap=False, max_features=3, n_estimators=10 ................\n",
      "[CV] . bootstrap=False, max_features=3, n_estimators=10, total=   0.0s\n",
      "[CV] bootstrap=False, max_features=3, n_estimators=10 ................\n",
      "[CV] . bootstrap=False, max_features=3, n_estimators=10, total=   0.0s\n",
      "[CV] bootstrap=False, max_features=3, n_estimators=10 ................\n",
      "[CV] . bootstrap=False, max_features=3, n_estimators=10, total=   0.0s\n",
      "[CV] bootstrap=False, max_features=3, n_estimators=10 ................\n",
      "[CV] . bootstrap=False, max_features=3, n_estimators=10, total=   0.0s\n",
      "[CV] bootstrap=False, max_features=3, n_estimators=100 ...............\n",
      "[CV]  bootstrap=False, max_features=3, n_estimators=100, total=   0.2s\n",
      "[CV] bootstrap=False, max_features=3, n_estimators=100 ...............\n",
      "[CV]  bootstrap=False, max_features=3, n_estimators=100, total=   0.2s\n",
      "[CV] bootstrap=False, max_features=3, n_estimators=100 ...............\n",
      "[CV]  bootstrap=False, max_features=3, n_estimators=100, total=   0.2s\n",
      "[CV] bootstrap=False, max_features=3, n_estimators=100 ...............\n",
      "[CV]  bootstrap=False, max_features=3, n_estimators=100, total=   0.2s\n",
      "[CV] bootstrap=False, max_features=3, n_estimators=100 ...............\n",
      "[CV]  bootstrap=False, max_features=3, n_estimators=100, total=   0.2s\n",
      "[CV] bootstrap=False, max_features=3, n_estimators=300 ...............\n",
      "[CV]  bootstrap=False, max_features=3, n_estimators=300, total=   0.7s\n",
      "[CV] bootstrap=False, max_features=3, n_estimators=300 ...............\n",
      "[CV]  bootstrap=False, max_features=3, n_estimators=300, total=   0.7s\n",
      "[CV] bootstrap=False, max_features=3, n_estimators=300 ...............\n",
      "[CV]  bootstrap=False, max_features=3, n_estimators=300, total=   0.7s\n",
      "[CV] bootstrap=False, max_features=3, n_estimators=300 ...............\n",
      "[CV]  bootstrap=False, max_features=3, n_estimators=300, total=   0.7s\n",
      "[CV] bootstrap=False, max_features=3, n_estimators=300 ...............\n",
      "[CV]  bootstrap=False, max_features=3, n_estimators=300, total=   0.7s\n",
      "[CV] bootstrap=False, max_features=4, n_estimators=3 .................\n",
      "[CV] .. bootstrap=False, max_features=4, n_estimators=3, total=   0.0s\n",
      "[CV] bootstrap=False, max_features=4, n_estimators=3 .................\n",
      "[CV] .. bootstrap=False, max_features=4, n_estimators=3, total=   0.0s\n",
      "[CV] bootstrap=False, max_features=4, n_estimators=3 .................\n",
      "[CV] .. bootstrap=False, max_features=4, n_estimators=3, total=   0.0s\n",
      "[CV] bootstrap=False, max_features=4, n_estimators=3 .................\n",
      "[CV] .. bootstrap=False, max_features=4, n_estimators=3, total=   0.0s\n",
      "[CV] bootstrap=False, max_features=4, n_estimators=3 .................\n",
      "[CV] .. bootstrap=False, max_features=4, n_estimators=3, total=   0.0s\n",
      "[CV] bootstrap=False, max_features=4, n_estimators=10 ................\n",
      "[CV] . bootstrap=False, max_features=4, n_estimators=10, total=   0.0s\n",
      "[CV] bootstrap=False, max_features=4, n_estimators=10 ................\n",
      "[CV] . bootstrap=False, max_features=4, n_estimators=10, total=   0.0s\n",
      "[CV] bootstrap=False, max_features=4, n_estimators=10 ................\n",
      "[CV] . bootstrap=False, max_features=4, n_estimators=10, total=   0.0s\n",
      "[CV] bootstrap=False, max_features=4, n_estimators=10 ................\n",
      "[CV] . bootstrap=False, max_features=4, n_estimators=10, total=   0.0s\n",
      "[CV] bootstrap=False, max_features=4, n_estimators=10 ................\n"
     ]
    },
    {
     "name": "stdout",
     "output_type": "stream",
     "text": [
      "[CV] . bootstrap=False, max_features=4, n_estimators=10, total=   0.0s\n",
      "[CV] bootstrap=False, max_features=4, n_estimators=100 ...............\n",
      "[CV]  bootstrap=False, max_features=4, n_estimators=100, total=   0.3s\n",
      "[CV] bootstrap=False, max_features=4, n_estimators=100 ...............\n",
      "[CV]  bootstrap=False, max_features=4, n_estimators=100, total=   0.3s\n",
      "[CV] bootstrap=False, max_features=4, n_estimators=100 ...............\n",
      "[CV]  bootstrap=False, max_features=4, n_estimators=100, total=   0.3s\n",
      "[CV] bootstrap=False, max_features=4, n_estimators=100 ...............\n",
      "[CV]  bootstrap=False, max_features=4, n_estimators=100, total=   0.3s\n",
      "[CV] bootstrap=False, max_features=4, n_estimators=100 ...............\n",
      "[CV]  bootstrap=False, max_features=4, n_estimators=100, total=   0.3s\n",
      "[CV] bootstrap=False, max_features=4, n_estimators=300 ...............\n",
      "[CV]  bootstrap=False, max_features=4, n_estimators=300, total=   0.8s\n",
      "[CV] bootstrap=False, max_features=4, n_estimators=300 ...............\n",
      "[CV]  bootstrap=False, max_features=4, n_estimators=300, total=   0.9s\n",
      "[CV] bootstrap=False, max_features=4, n_estimators=300 ...............\n",
      "[CV]  bootstrap=False, max_features=4, n_estimators=300, total=   0.8s\n",
      "[CV] bootstrap=False, max_features=4, n_estimators=300 ...............\n",
      "[CV]  bootstrap=False, max_features=4, n_estimators=300, total=   0.8s\n",
      "[CV] bootstrap=False, max_features=4, n_estimators=300 ...............\n",
      "[CV]  bootstrap=False, max_features=4, n_estimators=300, total=   0.8s\n",
      "[CV] bootstrap=False, max_features=10, n_estimators=3 ................\n",
      "[CV] . bootstrap=False, max_features=10, n_estimators=3, total=   0.0s\n",
      "[CV] bootstrap=False, max_features=10, n_estimators=3 ................\n",
      "[CV] . bootstrap=False, max_features=10, n_estimators=3, total=   0.0s\n",
      "[CV] bootstrap=False, max_features=10, n_estimators=3 ................\n",
      "[CV] . bootstrap=False, max_features=10, n_estimators=3, total=   0.0s\n",
      "[CV] bootstrap=False, max_features=10, n_estimators=3 ................\n",
      "[CV] . bootstrap=False, max_features=10, n_estimators=3, total=   0.0s\n",
      "[CV] bootstrap=False, max_features=10, n_estimators=3 ................\n",
      "[CV] . bootstrap=False, max_features=10, n_estimators=3, total=   0.0s\n",
      "[CV] bootstrap=False, max_features=10, n_estimators=10 ...............\n",
      "[CV]  bootstrap=False, max_features=10, n_estimators=10, total=   0.0s\n",
      "[CV] bootstrap=False, max_features=10, n_estimators=10 ...............\n",
      "[CV]  bootstrap=False, max_features=10, n_estimators=10, total=   0.1s\n",
      "[CV] bootstrap=False, max_features=10, n_estimators=10 ...............\n",
      "[CV]  bootstrap=False, max_features=10, n_estimators=10, total=   0.1s\n",
      "[CV] bootstrap=False, max_features=10, n_estimators=10 ...............\n",
      "[CV]  bootstrap=False, max_features=10, n_estimators=10, total=   0.1s\n",
      "[CV] bootstrap=False, max_features=10, n_estimators=10 ...............\n",
      "[CV]  bootstrap=False, max_features=10, n_estimators=10, total=   0.1s\n",
      "[CV] bootstrap=False, max_features=10, n_estimators=100 ..............\n",
      "[CV]  bootstrap=False, max_features=10, n_estimators=100, total=   0.5s\n",
      "[CV] bootstrap=False, max_features=10, n_estimators=100 ..............\n",
      "[CV]  bootstrap=False, max_features=10, n_estimators=100, total=   0.5s\n",
      "[CV] bootstrap=False, max_features=10, n_estimators=100 ..............\n",
      "[CV]  bootstrap=False, max_features=10, n_estimators=100, total=   0.5s\n",
      "[CV] bootstrap=False, max_features=10, n_estimators=100 ..............\n",
      "[CV]  bootstrap=False, max_features=10, n_estimators=100, total=   0.5s\n",
      "[CV] bootstrap=False, max_features=10, n_estimators=100 ..............\n",
      "[CV]  bootstrap=False, max_features=10, n_estimators=100, total=   0.5s\n",
      "[CV] bootstrap=False, max_features=10, n_estimators=300 ..............\n",
      "[CV]  bootstrap=False, max_features=10, n_estimators=300, total=   1.5s\n",
      "[CV] bootstrap=False, max_features=10, n_estimators=300 ..............\n",
      "[CV]  bootstrap=False, max_features=10, n_estimators=300, total=   1.5s\n",
      "[CV] bootstrap=False, max_features=10, n_estimators=300 ..............\n",
      "[CV]  bootstrap=False, max_features=10, n_estimators=300, total=   1.6s\n",
      "[CV] bootstrap=False, max_features=10, n_estimators=300 ..............\n",
      "[CV]  bootstrap=False, max_features=10, n_estimators=300, total=   1.5s\n",
      "[CV] bootstrap=False, max_features=10, n_estimators=300 ..............\n",
      "[CV]  bootstrap=False, max_features=10, n_estimators=300, total=   1.5s\n"
     ]
    },
    {
     "name": "stderr",
     "output_type": "stream",
     "text": [
      "[Parallel(n_jobs=1)]: Done 160 out of 160 | elapsed:   36.0s finished\n"
     ]
    },
    {
     "data": {
      "text/plain": [
       "GridSearchCV(cv=5, estimator=RandomForestRegressor(random_state=42),\n",
       "             param_grid=[{'max_features': [2, 4, 6, 8],\n",
       "                          'n_estimators': [3, 10, 30, 100]},\n",
       "                         {'bootstrap': [False], 'max_features': [2, 3, 4, 10],\n",
       "                          'n_estimators': [3, 10, 100, 300]}],\n",
       "             return_train_score=True, scoring='neg_mean_squared_error',\n",
       "             verbose=2)"
      ]
     },
     "execution_count": 156,
     "metadata": {},
     "output_type": "execute_result"
    }
   ],
   "source": [
    "from sklearn.model_selection import GridSearchCV\n",
    "\n",
    "param_grid = [\n",
    "    {'n_estimators': [3, 10, 30, 100], 'max_features': [2, 4, 6, 8]},\n",
    "    {'bootstrap': [False], 'n_estimators': [3, 10, 100, 300], 'max_features': [2, 3, 4, 10]},\n",
    "  ]\n",
    "\n",
    "forest_reg = RandomForestRegressor(random_state=42)\n",
    "grid_search = GridSearchCV(forest_reg, param_grid, cv=5,\n",
    "                           scoring='neg_mean_squared_error',\n",
    "                           return_train_score=True, verbose = 2)\n",
    "grid_search.fit(X_train_trans, y_train)"
   ]
  },
  {
   "cell_type": "code",
   "execution_count": 157,
   "metadata": {},
   "outputs": [
    {
     "data": {
      "text/plain": [
       "{'bootstrap': False, 'max_features': 3, 'n_estimators': 300}"
      ]
     },
     "execution_count": 157,
     "metadata": {},
     "output_type": "execute_result"
    }
   ],
   "source": [
    "grid_search.best_params_"
   ]
  },
  {
   "cell_type": "code",
   "execution_count": 158,
   "metadata": {},
   "outputs": [
    {
     "name": "stdout",
     "output_type": "stream",
     "text": [
      "0.7244274089279755 {'max_features': 2, 'n_estimators': 3}\n",
      "0.6252646253512878 {'max_features': 2, 'n_estimators': 10}\n",
      "0.6004639920252957 {'max_features': 2, 'n_estimators': 30}\n",
      "0.5960069689066514 {'max_features': 2, 'n_estimators': 100}\n",
      "0.6847223050815948 {'max_features': 4, 'n_estimators': 3}\n",
      "0.617261802117174 {'max_features': 4, 'n_estimators': 10}\n",
      "0.5975804604625049 {'max_features': 4, 'n_estimators': 30}\n",
      "0.5922831786098738 {'max_features': 4, 'n_estimators': 100}\n",
      "0.7055481575444578 {'max_features': 6, 'n_estimators': 3}\n",
      "0.6272712652402295 {'max_features': 6, 'n_estimators': 10}\n",
      "0.609764075416751 {'max_features': 6, 'n_estimators': 30}\n",
      "0.5948591016337975 {'max_features': 6, 'n_estimators': 100}\n",
      "0.704500153077538 {'max_features': 8, 'n_estimators': 3}\n",
      "0.6210285832596517 {'max_features': 8, 'n_estimators': 10}\n",
      "0.6026461145022166 {'max_features': 8, 'n_estimators': 30}\n",
      "0.5936244291881202 {'max_features': 8, 'n_estimators': 100}\n",
      "0.6828591631590218 {'bootstrap': False, 'max_features': 2, 'n_estimators': 3}\n",
      "0.6212988450833953 {'bootstrap': False, 'max_features': 2, 'n_estimators': 10}\n",
      "0.5930769792436927 {'bootstrap': False, 'max_features': 2, 'n_estimators': 100}\n",
      "0.5885875005578257 {'bootstrap': False, 'max_features': 2, 'n_estimators': 300}\n",
      "0.6815465640396468 {'bootstrap': False, 'max_features': 3, 'n_estimators': 3}\n",
      "0.6260379616379224 {'bootstrap': False, 'max_features': 3, 'n_estimators': 10}\n",
      "0.5907998125464343 {'bootstrap': False, 'max_features': 3, 'n_estimators': 100}\n",
      "0.5878794366995894 {'bootstrap': False, 'max_features': 3, 'n_estimators': 300}\n",
      "0.6814424160117047 {'bootstrap': False, 'max_features': 4, 'n_estimators': 3}\n",
      "0.6140689688702823 {'bootstrap': False, 'max_features': 4, 'n_estimators': 10}\n",
      "0.5936393003100022 {'bootstrap': False, 'max_features': 4, 'n_estimators': 100}\n",
      "0.591194474367218 {'bootstrap': False, 'max_features': 4, 'n_estimators': 300}\n",
      "0.7362422808277391 {'bootstrap': False, 'max_features': 10, 'n_estimators': 3}\n",
      "0.6939063372689147 {'bootstrap': False, 'max_features': 10, 'n_estimators': 10}\n",
      "0.669351486652434 {'bootstrap': False, 'max_features': 10, 'n_estimators': 100}\n",
      "0.6670710471132639 {'bootstrap': False, 'max_features': 10, 'n_estimators': 300}\n",
      "\n",
      "Lowest RMSE on training set: 0.5878794366995894\n"
     ]
    }
   ],
   "source": [
    "cvres = grid_search.cv_results_\n",
    "for mean_score, params in zip(cvres[\"mean_test_score\"], cvres[\"params\"]):\n",
    "    print(np.sqrt(-mean_score), params)\n",
    "    \n",
    "print()\n",
    "print(f\"Lowest RMSE on training set: {min(np.sqrt(-cvres['mean_test_score']))}\")"
   ]
  },
  {
   "cell_type": "markdown",
   "metadata": {},
   "source": [
    "## Analysis of results and test evaluation"
   ]
  },
  {
   "cell_type": "code",
   "execution_count": 159,
   "metadata": {},
   "outputs": [],
   "source": [
    "final_model = grid_search.best_estimator_"
   ]
  },
  {
   "cell_type": "code",
   "execution_count": 160,
   "metadata": {},
   "outputs": [
    {
     "data": {
      "text/plain": [
       "[(0.48119737639814975, 'alcohol'),\n",
       " (0.22805038346308584, 'sulphates'),\n",
       " (0.21080211391019751, 'pH'),\n",
       " (0.10793977295738814, 'density'),\n",
       " (0.0037104950416533924, 'total sulfur dioxide'),\n",
       " (-0.04829065715280893, 'free sulfur dioxide'),\n",
       " (-0.05206337346620809, 'chlorides'),\n",
       " (-0.12023131879636532, 'residual sugar'),\n",
       " (-0.19300898977910494, 'citric acid'),\n",
       " (-0.19451092781905452, 'volatile acidity'),\n",
       " (-0.38324869173682236, 'fixed acidity')]"
      ]
     },
     "execution_count": 160,
     "metadata": {},
     "output_type": "execute_result"
    }
   ],
   "source": [
    "sorted(zip(feature_importances, X_train.columns), reverse=True)"
   ]
  },
  {
   "cell_type": "markdown",
   "metadata": {},
   "source": [
    "#### Final RMSE on test set "
   ]
  },
  {
   "cell_type": "code",
   "execution_count": 161,
   "metadata": {},
   "outputs": [
    {
     "data": {
      "text/plain": [
       "array([[ 0.29121464, -1.45277882,  0.59602947, ..., -1.04648992,\n",
       "         0.14765351,  0.72804512],\n",
       "       [ 0.76328502,  0.85525022, -0.17388875, ..., -1.1124792 ,\n",
       "        -0.35713993, -0.21069711],\n",
       "       [-0.29887333,  1.98111804, -1.40575789, ..., -0.71654351,\n",
       "         0.09156535, -0.586194  ],\n",
       "       ...,\n",
       "       [ 1.88445216, -0.66467134,  1.26329192, ..., -0.32060782,\n",
       "         1.21332855,  0.54029667],\n",
       "       [-0.18085573,  0.40490309, -0.99513484, ..., -0.58456494,\n",
       "        -1.64716761,  2.41778112],\n",
       "       [ 0.17319705,  0.57378326, -0.53318391, ..., -1.44242561,\n",
       "        -0.80584521, -1.05556511]])"
      ]
     },
     "execution_count": 161,
     "metadata": {},
     "output_type": "execute_result"
    }
   ],
   "source": [
    "X_test = test_set.drop([\"quality\"],axis = 1)\n",
    "y_test = test_set[\"quality\"]\n",
    "X_test_trans = transformer.transform(X_test)\n",
    "X_test_trans"
   ]
  },
  {
   "cell_type": "code",
   "execution_count": 164,
   "metadata": {},
   "outputs": [
    {
     "name": "stdout",
     "output_type": "stream",
     "text": [
      "RMSE on test set: 0.5597626295036932\n"
     ]
    }
   ],
   "source": [
    "final_predictions = final_model.predict(X_test_trans)\n",
    "final_rmse = np.sqrt(mean_squared_error(y_test, final_predictions))\n",
    "print(f\"RMSE on test set: {final_rmse}\")"
   ]
  },
  {
   "cell_type": "markdown",
   "metadata": {},
   "source": [
    "Confidence interval"
   ]
  },
  {
   "cell_type": "code",
   "execution_count": 165,
   "metadata": {},
   "outputs": [
    {
     "data": {
      "text/plain": [
       "array([0.49486968, 0.61787733])"
      ]
     },
     "execution_count": 165,
     "metadata": {},
     "output_type": "execute_result"
    }
   ],
   "source": [
    "confidence = 0.95\n",
    "squared_errors = (final_predictions - y_test) ** 2\n",
    "np.sqrt(stats.t.interval(confidence, len(squared_errors) - 1,\n",
    "                         loc=squared_errors.mean(),\n",
    "                         scale=stats.sem(squared_errors)))"
   ]
  },
  {
   "cell_type": "markdown",
   "metadata": {},
   "source": [
    "## Save and load model"
   ]
  },
  {
   "cell_type": "code",
   "execution_count": 166,
   "metadata": {},
   "outputs": [
    {
     "data": {
      "text/plain": [
       "['DT-regression.pkl']"
      ]
     },
     "execution_count": 166,
     "metadata": {},
     "output_type": "execute_result"
    }
   ],
   "source": [
    "joblib.dump(final_model, \"DT-regression.pkl\") # DIFF\n",
    "#model = joblib.load(\"my_model.pkl\") # DIFF"
   ]
  },
  {
   "cell_type": "code",
   "execution_count": null,
   "metadata": {},
   "outputs": [],
   "source": []
  },
  {
   "cell_type": "code",
   "execution_count": null,
   "metadata": {},
   "outputs": [],
   "source": []
  }
 ],
 "metadata": {
  "kernelspec": {
   "display_name": "Python 3",
   "language": "python",
   "name": "python3"
  },
  "language_info": {
   "codemirror_mode": {
    "name": "ipython",
    "version": 3
   },
   "file_extension": ".py",
   "mimetype": "text/x-python",
   "name": "python",
   "nbconvert_exporter": "python",
   "pygments_lexer": "ipython3",
   "version": "3.8.5"
  }
 },
 "nbformat": 4,
 "nbformat_minor": 4
}
